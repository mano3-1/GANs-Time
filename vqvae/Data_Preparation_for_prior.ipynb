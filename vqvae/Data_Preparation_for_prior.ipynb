{
  "nbformat": 4,
  "nbformat_minor": 0,
  "metadata": {
    "colab": {
      "name": "Data Preparation for prior.ipynb",
      "provenance": []
    },
    "kernelspec": {
      "name": "python3",
      "display_name": "Python 3"
    },
    "language_info": {
      "name": "python"
    },
    "accelerator": "GPU",
    "widgets": {
      "application/vnd.jupyter.widget-state+json": {
        "4a7d50ebec374092a49a0230801b120d": {
          "model_module": "@jupyter-widgets/controls",
          "model_name": "HBoxModel",
          "model_module_version": "1.5.0",
          "state": {
            "_view_name": "HBoxView",
            "_dom_classes": [],
            "_model_name": "HBoxModel",
            "_view_module": "@jupyter-widgets/controls",
            "_model_module_version": "1.5.0",
            "_view_count": null,
            "_view_module_version": "1.5.0",
            "box_style": "",
            "layout": "IPY_MODEL_09ed42e4d52f426ba5062aa9702654c8",
            "_model_module": "@jupyter-widgets/controls",
            "children": [
              "IPY_MODEL_b3a18ced57eb47c9bb2c30b8998cf670",
              "IPY_MODEL_4be8d2c304be4d8fb66cbc13ecf15e48",
              "IPY_MODEL_44137e9819224389b3a8ff030481ee81"
            ]
          }
        },
        "09ed42e4d52f426ba5062aa9702654c8": {
          "model_module": "@jupyter-widgets/base",
          "model_name": "LayoutModel",
          "model_module_version": "1.2.0",
          "state": {
            "_view_name": "LayoutView",
            "grid_template_rows": null,
            "right": null,
            "justify_content": null,
            "_view_module": "@jupyter-widgets/base",
            "overflow": null,
            "_model_module_version": "1.2.0",
            "_view_count": null,
            "flex_flow": null,
            "width": null,
            "min_width": null,
            "border": null,
            "align_items": null,
            "bottom": null,
            "_model_module": "@jupyter-widgets/base",
            "top": null,
            "grid_column": null,
            "overflow_y": null,
            "overflow_x": null,
            "grid_auto_flow": null,
            "grid_area": null,
            "grid_template_columns": null,
            "flex": null,
            "_model_name": "LayoutModel",
            "justify_items": null,
            "grid_row": null,
            "max_height": null,
            "align_content": null,
            "visibility": null,
            "align_self": null,
            "height": null,
            "min_height": null,
            "padding": null,
            "grid_auto_rows": null,
            "grid_gap": null,
            "max_width": null,
            "order": null,
            "_view_module_version": "1.2.0",
            "grid_template_areas": null,
            "object_position": null,
            "object_fit": null,
            "grid_auto_columns": null,
            "margin": null,
            "display": null,
            "left": null
          }
        },
        "b3a18ced57eb47c9bb2c30b8998cf670": {
          "model_module": "@jupyter-widgets/controls",
          "model_name": "HTMLModel",
          "model_module_version": "1.5.0",
          "state": {
            "_view_name": "HTMLView",
            "style": "IPY_MODEL_cd2721a39cdc4779a41eafffe38eee39",
            "_dom_classes": [],
            "description": "",
            "_model_name": "HTMLModel",
            "placeholder": "​",
            "_view_module": "@jupyter-widgets/controls",
            "_model_module_version": "1.5.0",
            "value": "100%",
            "_view_count": null,
            "_view_module_version": "1.5.0",
            "description_tooltip": null,
            "_model_module": "@jupyter-widgets/controls",
            "layout": "IPY_MODEL_e4de51d92a0c4a8d865ce390fcecbb80"
          }
        },
        "4be8d2c304be4d8fb66cbc13ecf15e48": {
          "model_module": "@jupyter-widgets/controls",
          "model_name": "FloatProgressModel",
          "model_module_version": "1.5.0",
          "state": {
            "_view_name": "ProgressView",
            "style": "IPY_MODEL_5362ee7cf1ee424295b86fd93b1581b4",
            "_dom_classes": [],
            "description": "",
            "_model_name": "FloatProgressModel",
            "bar_style": "success",
            "max": 6000,
            "_view_module": "@jupyter-widgets/controls",
            "_model_module_version": "1.5.0",
            "value": 6000,
            "_view_count": null,
            "_view_module_version": "1.5.0",
            "orientation": "horizontal",
            "min": 0,
            "description_tooltip": null,
            "_model_module": "@jupyter-widgets/controls",
            "layout": "IPY_MODEL_a50a6434479c4640b5651c3145b91222"
          }
        },
        "44137e9819224389b3a8ff030481ee81": {
          "model_module": "@jupyter-widgets/controls",
          "model_name": "HTMLModel",
          "model_module_version": "1.5.0",
          "state": {
            "_view_name": "HTMLView",
            "style": "IPY_MODEL_51eaaf3d9b8c4054955da0181e12266d",
            "_dom_classes": [],
            "description": "",
            "_model_name": "HTMLModel",
            "placeholder": "​",
            "_view_module": "@jupyter-widgets/controls",
            "_model_module_version": "1.5.0",
            "value": " 6000/6000 [07:28&lt;00:00,  4.23it/s]",
            "_view_count": null,
            "_view_module_version": "1.5.0",
            "description_tooltip": null,
            "_model_module": "@jupyter-widgets/controls",
            "layout": "IPY_MODEL_18abce0c524c416f8c3762acd8d67978"
          }
        },
        "cd2721a39cdc4779a41eafffe38eee39": {
          "model_module": "@jupyter-widgets/controls",
          "model_name": "DescriptionStyleModel",
          "model_module_version": "1.5.0",
          "state": {
            "_view_name": "StyleView",
            "_model_name": "DescriptionStyleModel",
            "description_width": "",
            "_view_module": "@jupyter-widgets/base",
            "_model_module_version": "1.5.0",
            "_view_count": null,
            "_view_module_version": "1.2.0",
            "_model_module": "@jupyter-widgets/controls"
          }
        },
        "e4de51d92a0c4a8d865ce390fcecbb80": {
          "model_module": "@jupyter-widgets/base",
          "model_name": "LayoutModel",
          "model_module_version": "1.2.0",
          "state": {
            "_view_name": "LayoutView",
            "grid_template_rows": null,
            "right": null,
            "justify_content": null,
            "_view_module": "@jupyter-widgets/base",
            "overflow": null,
            "_model_module_version": "1.2.0",
            "_view_count": null,
            "flex_flow": null,
            "width": null,
            "min_width": null,
            "border": null,
            "align_items": null,
            "bottom": null,
            "_model_module": "@jupyter-widgets/base",
            "top": null,
            "grid_column": null,
            "overflow_y": null,
            "overflow_x": null,
            "grid_auto_flow": null,
            "grid_area": null,
            "grid_template_columns": null,
            "flex": null,
            "_model_name": "LayoutModel",
            "justify_items": null,
            "grid_row": null,
            "max_height": null,
            "align_content": null,
            "visibility": null,
            "align_self": null,
            "height": null,
            "min_height": null,
            "padding": null,
            "grid_auto_rows": null,
            "grid_gap": null,
            "max_width": null,
            "order": null,
            "_view_module_version": "1.2.0",
            "grid_template_areas": null,
            "object_position": null,
            "object_fit": null,
            "grid_auto_columns": null,
            "margin": null,
            "display": null,
            "left": null
          }
        },
        "5362ee7cf1ee424295b86fd93b1581b4": {
          "model_module": "@jupyter-widgets/controls",
          "model_name": "ProgressStyleModel",
          "model_module_version": "1.5.0",
          "state": {
            "_view_name": "StyleView",
            "_model_name": "ProgressStyleModel",
            "description_width": "",
            "_view_module": "@jupyter-widgets/base",
            "_model_module_version": "1.5.0",
            "_view_count": null,
            "_view_module_version": "1.2.0",
            "bar_color": null,
            "_model_module": "@jupyter-widgets/controls"
          }
        },
        "a50a6434479c4640b5651c3145b91222": {
          "model_module": "@jupyter-widgets/base",
          "model_name": "LayoutModel",
          "model_module_version": "1.2.0",
          "state": {
            "_view_name": "LayoutView",
            "grid_template_rows": null,
            "right": null,
            "justify_content": null,
            "_view_module": "@jupyter-widgets/base",
            "overflow": null,
            "_model_module_version": "1.2.0",
            "_view_count": null,
            "flex_flow": null,
            "width": null,
            "min_width": null,
            "border": null,
            "align_items": null,
            "bottom": null,
            "_model_module": "@jupyter-widgets/base",
            "top": null,
            "grid_column": null,
            "overflow_y": null,
            "overflow_x": null,
            "grid_auto_flow": null,
            "grid_area": null,
            "grid_template_columns": null,
            "flex": null,
            "_model_name": "LayoutModel",
            "justify_items": null,
            "grid_row": null,
            "max_height": null,
            "align_content": null,
            "visibility": null,
            "align_self": null,
            "height": null,
            "min_height": null,
            "padding": null,
            "grid_auto_rows": null,
            "grid_gap": null,
            "max_width": null,
            "order": null,
            "_view_module_version": "1.2.0",
            "grid_template_areas": null,
            "object_position": null,
            "object_fit": null,
            "grid_auto_columns": null,
            "margin": null,
            "display": null,
            "left": null
          }
        },
        "51eaaf3d9b8c4054955da0181e12266d": {
          "model_module": "@jupyter-widgets/controls",
          "model_name": "DescriptionStyleModel",
          "model_module_version": "1.5.0",
          "state": {
            "_view_name": "StyleView",
            "_model_name": "DescriptionStyleModel",
            "description_width": "",
            "_view_module": "@jupyter-widgets/base",
            "_model_module_version": "1.5.0",
            "_view_count": null,
            "_view_module_version": "1.2.0",
            "_model_module": "@jupyter-widgets/controls"
          }
        },
        "18abce0c524c416f8c3762acd8d67978": {
          "model_module": "@jupyter-widgets/base",
          "model_name": "LayoutModel",
          "model_module_version": "1.2.0",
          "state": {
            "_view_name": "LayoutView",
            "grid_template_rows": null,
            "right": null,
            "justify_content": null,
            "_view_module": "@jupyter-widgets/base",
            "overflow": null,
            "_model_module_version": "1.2.0",
            "_view_count": null,
            "flex_flow": null,
            "width": null,
            "min_width": null,
            "border": null,
            "align_items": null,
            "bottom": null,
            "_model_module": "@jupyter-widgets/base",
            "top": null,
            "grid_column": null,
            "overflow_y": null,
            "overflow_x": null,
            "grid_auto_flow": null,
            "grid_area": null,
            "grid_template_columns": null,
            "flex": null,
            "_model_name": "LayoutModel",
            "justify_items": null,
            "grid_row": null,
            "max_height": null,
            "align_content": null,
            "visibility": null,
            "align_self": null,
            "height": null,
            "min_height": null,
            "padding": null,
            "grid_auto_rows": null,
            "grid_gap": null,
            "max_width": null,
            "order": null,
            "_view_module_version": "1.2.0",
            "grid_template_areas": null,
            "object_position": null,
            "object_fit": null,
            "grid_auto_columns": null,
            "margin": null,
            "display": null,
            "left": null
          }
        }
      }
    }
  },
  "cells": [
    {
      "cell_type": "code",
      "metadata": {
        "colab": {
          "base_uri": "https://localhost:8080/"
        },
        "id": "EQX6ENkjMJkZ",
        "outputId": "a7ce8e36-f281-4273-e5d6-050165f0a77b"
      },
      "source": [
        "!pip install timm"
      ],
      "execution_count": null,
      "outputs": [
        {
          "output_type": "stream",
          "name": "stdout",
          "text": [
            "Collecting timm\n",
            "  Downloading timm-0.4.12-py3-none-any.whl (376 kB)\n",
            "\u001b[?25l\r\u001b[K     |▉                               | 10 kB 26.3 MB/s eta 0:00:01\r\u001b[K     |█▊                              | 20 kB 8.9 MB/s eta 0:00:01\r\u001b[K     |██▋                             | 30 kB 7.7 MB/s eta 0:00:01\r\u001b[K     |███▌                            | 40 kB 7.3 MB/s eta 0:00:01\r\u001b[K     |████▍                           | 51 kB 5.2 MB/s eta 0:00:01\r\u001b[K     |█████▏                          | 61 kB 5.6 MB/s eta 0:00:01\r\u001b[K     |██████                          | 71 kB 5.5 MB/s eta 0:00:01\r\u001b[K     |███████                         | 81 kB 6.1 MB/s eta 0:00:01\r\u001b[K     |███████▉                        | 92 kB 4.9 MB/s eta 0:00:01\r\u001b[K     |████████▊                       | 102 kB 5.4 MB/s eta 0:00:01\r\u001b[K     |█████████▋                      | 112 kB 5.4 MB/s eta 0:00:01\r\u001b[K     |██████████▍                     | 122 kB 5.4 MB/s eta 0:00:01\r\u001b[K     |███████████▎                    | 133 kB 5.4 MB/s eta 0:00:01\r\u001b[K     |████████████▏                   | 143 kB 5.4 MB/s eta 0:00:01\r\u001b[K     |█████████████                   | 153 kB 5.4 MB/s eta 0:00:01\r\u001b[K     |██████████████                  | 163 kB 5.4 MB/s eta 0:00:01\r\u001b[K     |██████████████▊                 | 174 kB 5.4 MB/s eta 0:00:01\r\u001b[K     |███████████████▋                | 184 kB 5.4 MB/s eta 0:00:01\r\u001b[K     |████████████████▌               | 194 kB 5.4 MB/s eta 0:00:01\r\u001b[K     |█████████████████▍              | 204 kB 5.4 MB/s eta 0:00:01\r\u001b[K     |██████████████████▎             | 215 kB 5.4 MB/s eta 0:00:01\r\u001b[K     |███████████████████▏            | 225 kB 5.4 MB/s eta 0:00:01\r\u001b[K     |████████████████████            | 235 kB 5.4 MB/s eta 0:00:01\r\u001b[K     |████████████████████▉           | 245 kB 5.4 MB/s eta 0:00:01\r\u001b[K     |█████████████████████▊          | 256 kB 5.4 MB/s eta 0:00:01\r\u001b[K     |██████████████████████▋         | 266 kB 5.4 MB/s eta 0:00:01\r\u001b[K     |███████████████████████▌        | 276 kB 5.4 MB/s eta 0:00:01\r\u001b[K     |████████████████████████▍       | 286 kB 5.4 MB/s eta 0:00:01\r\u001b[K     |█████████████████████████▏      | 296 kB 5.4 MB/s eta 0:00:01\r\u001b[K     |██████████████████████████      | 307 kB 5.4 MB/s eta 0:00:01\r\u001b[K     |███████████████████████████     | 317 kB 5.4 MB/s eta 0:00:01\r\u001b[K     |███████████████████████████▉    | 327 kB 5.4 MB/s eta 0:00:01\r\u001b[K     |████████████████████████████▊   | 337 kB 5.4 MB/s eta 0:00:01\r\u001b[K     |█████████████████████████████▌  | 348 kB 5.4 MB/s eta 0:00:01\r\u001b[K     |██████████████████████████████▍ | 358 kB 5.4 MB/s eta 0:00:01\r\u001b[K     |███████████████████████████████▎| 368 kB 5.4 MB/s eta 0:00:01\r\u001b[K     |████████████████████████████████| 376 kB 5.4 MB/s \n",
            "\u001b[?25hRequirement already satisfied: torchvision in /usr/local/lib/python3.7/dist-packages (from timm) (0.10.0+cu111)\n",
            "Requirement already satisfied: torch>=1.4 in /usr/local/lib/python3.7/dist-packages (from timm) (1.9.0+cu111)\n",
            "Requirement already satisfied: typing-extensions in /usr/local/lib/python3.7/dist-packages (from torch>=1.4->timm) (3.7.4.3)\n",
            "Requirement already satisfied: pillow>=5.3.0 in /usr/local/lib/python3.7/dist-packages (from torchvision->timm) (7.1.2)\n",
            "Requirement already satisfied: numpy in /usr/local/lib/python3.7/dist-packages (from torchvision->timm) (1.19.5)\n",
            "Installing collected packages: timm\n",
            "Successfully installed timm-0.4.12\n"
          ]
        }
      ]
    },
    {
      "cell_type": "code",
      "metadata": {
        "id": "LYb2LYuKIqyn"
      },
      "source": [
        "import torch\n",
        "from torch import nn\n",
        "from torch.nn import functional as F\n",
        "\n",
        "\n",
        "import numpy as np\n",
        "import timm\n",
        "import cv2\n",
        "import os\n",
        "import random\n",
        "from tqdm.notebook import tqdm"
      ],
      "execution_count": null,
      "outputs": []
    },
    {
      "cell_type": "code",
      "metadata": {
        "colab": {
          "base_uri": "https://localhost:8080/"
        },
        "id": "YXpv3mfzI8HC",
        "outputId": "7290505a-19b6-4a0a-a46f-c86371a10e92"
      },
      "source": [
        "from google.colab import drive\n",
        "drive.mount(\"/content/gdrive\")"
      ],
      "execution_count": null,
      "outputs": [
        {
          "output_type": "stream",
          "name": "stdout",
          "text": [
            "Mounted at /content/gdrive\n"
          ]
        }
      ]
    },
    {
      "cell_type": "code",
      "metadata": {
        "id": "wFqWr5lFKB-a"
      },
      "source": [
        "class Encoder(nn.Module):\n",
        "    def __init__(self, backbone = 'resnet34'):\n",
        "        super(Encoder, self).__init__()\n",
        "        self.backbone = timm.create_model(backbone, pretrained = True)\n",
        "        self.List = list(self.backbone.children())[:-4]\n",
        "\n",
        "    def forward(self,X):\n",
        "        for i,layer in enumerate(self.List):\n",
        "            X = layer(X)\n",
        "        return X\n",
        "\n",
        "\n",
        "class discretize(nn.Module):\n",
        "    def __init__(self, n_e, e_dim, beta=0.25):\n",
        "        super(discretize, self).__init__()\n",
        "        self.e_dim = e_dim\n",
        "        self.n_e = n_e\n",
        "    \n",
        "        self.beta = beta\n",
        "        self.code_book = nn.Embedding(n_e, e_dim)\n",
        "        self.softmax = nn.Softmax(dim=1)\n",
        "        self.code_book.weight.data.uniform_(-1.0 / self.n_e, 1.0 / self.n_e)\n",
        "\n",
        "    def forward(self, enc):\n",
        "        enc = enc.permute(0,2,3,1).contiguous()\n",
        "        enc_flattened = enc.view(-1, self.e_dim)\n",
        "\n",
        "        distances = (torch.sum(enc_flattened**2, dim=1, keepdim = True) +\n",
        "                     torch.sum(self.code_book.weight**2, dim=1)\n",
        "                        -2*torch.matmul(enc_flattened, self.code_book.weight.t()))\n",
        "\n",
        "        min_encoding_ids = torch.argmin(distances, dim=1).unsqueeze(1)\n",
        "        min_encodings_mask = torch.zeros(min_encoding_ids.shape[0], self.n_e, dtype = self.code_book.weight.dtype).to(enc.device)\n",
        "        min_encodings_mask.scatter_(1, min_encoding_ids, 1)\n",
        "        latent_reps = torch.matmul(min_encodings_mask, self.code_book.weight).view(enc.shape)\n",
        "        codebook_loss = F.mse_loss(latent_reps.detach(),enc) + self.beta * F.mse_loss(latent_reps , enc.detach())\n",
        "        latent_reps = enc + (latent_reps-enc).detach()\n",
        "\n",
        "        e_mean = torch.mean(min_encodings_mask, dim=0)\n",
        "        perplexity = torch.exp(-torch.sum(e_mean * torch.log(e_mean + 1e-10)))\n",
        "\n",
        "        latent_reps = latent_reps.permute(0, 3, 1, 2).contiguous()\n",
        "\n",
        "        return latent_reps, codebook_loss, perplexity, min_encoding_ids\n",
        "\n",
        "\n",
        "DEVICE = \"cuda\" if torch.cuda.is_available() else \"cpu\""
      ],
      "execution_count": null,
      "outputs": []
    },
    {
      "cell_type": "code",
      "metadata": {
        "colab": {
          "base_uri": "https://localhost:8080/"
        },
        "id": "Ngw7WOhlKqDx",
        "outputId": "d98a2d09-0a07-4a75-90ad-cef3ae870010"
      },
      "source": [
        "encoder = Encoder().to(DEVICE)\n",
        "Discrete = discretize(512, 128).to(DEVICE)\n",
        "encoder.load_state_dict(torch.load(\"/content/gdrive/My Drive/vqvae/encoder.pth\", map_location = DEVICE))\n",
        "Discrete.load_state_dict(torch.load(\"/content/gdrive/My Drive/vqvae/discrete.pth\", map_location = DEVICE))"
      ],
      "execution_count": null,
      "outputs": [
        {
          "output_type": "stream",
          "name": "stderr",
          "text": [
            "Downloading: \"https://github.com/rwightman/pytorch-image-models/releases/download/v0.1-weights/resnet34-43635321.pth\" to /root/.cache/torch/hub/checkpoints/resnet34-43635321.pth\n"
          ]
        },
        {
          "output_type": "execute_result",
          "data": {
            "text/plain": [
              "<All keys matched successfully>"
            ]
          },
          "metadata": {},
          "execution_count": 5
        }
      ]
    },
    {
      "cell_type": "code",
      "metadata": {
        "id": "QNqeciXzMIKs"
      },
      "source": [
        "root_pth = \"/content/gdrive/MyDrive/vqvae\"\n",
        "root_pth = \"/content/gdrive/MyDrive/vqvae\"\n",
        "count = 0\n",
        "birds285_folders = os.listdir(root_pth + \"/285 birds/train\")\n",
        "birds_folders = os.listdir(root_pth + \"/birds/train\")\n",
        "birdsrev2_folders = os.listdir(root_pth + \"/birds_rev2/train\")\n",
        "img_pths = []\n",
        "for folder in birds_folders:\n",
        "    folder_pth = root_pth+\"/birds/train/\"+folder\n",
        "    files = os.listdir(folder_pth)\n",
        "    for f in files:\n",
        "        file_pth = folder_pth + \"/\" + f\n",
        "        img_pths.append(file_pth)\n",
        "        count+=1\n",
        "        if(count==6000):\n",
        "            break\n",
        "    if(count==6000):\n",
        "        break"
      ],
      "execution_count": null,
      "outputs": []
    },
    {
      "cell_type": "code",
      "metadata": {
        "colab": {
          "base_uri": "https://localhost:8080/",
          "height": 244,
          "referenced_widgets": [
            "4a7d50ebec374092a49a0230801b120d",
            "09ed42e4d52f426ba5062aa9702654c8",
            "b3a18ced57eb47c9bb2c30b8998cf670",
            "4be8d2c304be4d8fb66cbc13ecf15e48",
            "44137e9819224389b3a8ff030481ee81",
            "cd2721a39cdc4779a41eafffe38eee39",
            "e4de51d92a0c4a8d865ce390fcecbb80",
            "5362ee7cf1ee424295b86fd93b1581b4",
            "a50a6434479c4640b5651c3145b91222",
            "51eaaf3d9b8c4054955da0181e12266d",
            "18abce0c524c416f8c3762acd8d67978"
          ]
        },
        "id": "3Obpa1QVNdPZ",
        "outputId": "4b52e91c-4298-4ff3-d695-9e07733c26c8"
      },
      "source": [
        "imgs_size_in_bytes = 0\n",
        "latent_size_in_bytes = 0\n",
        "for img_pth in tqdm(img_pths):\n",
        "    imgs_size_in_bytes+=os.path.getsize(img_pth)\n",
        "    img = np.moveaxis(cv2.imread(img_pth),2 ,0)[np.newaxis, :,:,:]\n",
        "    img = torch.tensor(img, dtype = torch.float).to(DEVICE)\n",
        "    img = img/255.0\n",
        "    enc = encoder(img)\n",
        "    d_latent,_,_,ids = Discrete(enc)\n",
        "    ids = ids.detach().cpu().numpy()\n",
        "    id_file_name = img_pth.split(\"/\")[-2]+\"_\"+img_pth.split(\"/\")[-1].split(\".\")[0]\n",
        "    np.save(\"/content/gdrive/My Drive/vqvae/latent_data/\"+id_file_name+\".npy\", ids)\n",
        "    latent_size_in_bytes+=os.path.getsize(\"/content/gdrive/My Drive/vqvae/latent_data/\"+id_file_name+\".npy\")\n"
      ],
      "execution_count": null,
      "outputs": [
        {
          "output_type": "display_data",
          "data": {
            "application/vnd.jupyter.widget-view+json": {
              "model_id": "4a7d50ebec374092a49a0230801b120d",
              "version_minor": 0,
              "version_major": 2
            },
            "text/plain": [
              "  0%|          | 0/6000 [00:00<?, ?it/s]"
            ]
          },
          "metadata": {}
        },
        {
          "output_type": "error",
          "ename": "AttributeError",
          "evalue": "ignored",
          "traceback": [
            "\u001b[0;31m---------------------------------------------------------------------------\u001b[0m",
            "\u001b[0;31mAttributeError\u001b[0m                            Traceback (most recent call last)",
            "\u001b[0;32m<ipython-input-10-a2e2daed2296>\u001b[0m in \u001b[0;36m<module>\u001b[0;34m()\u001b[0m\n\u001b[1;32m     12\u001b[0m     \u001b[0mnp\u001b[0m\u001b[0;34m.\u001b[0m\u001b[0msave\u001b[0m\u001b[0;34m(\u001b[0m\u001b[0;34m\"/content/gdrive/My Drive/vqvae/latent_data/\"\u001b[0m\u001b[0;34m+\u001b[0m\u001b[0mid_file_name\u001b[0m\u001b[0;34m+\u001b[0m\u001b[0;34m\".npy\"\u001b[0m\u001b[0;34m,\u001b[0m \u001b[0mids\u001b[0m\u001b[0;34m)\u001b[0m\u001b[0;34m\u001b[0m\u001b[0;34m\u001b[0m\u001b[0m\n\u001b[1;32m     13\u001b[0m     \u001b[0mlatent_size_in_bytes\u001b[0m\u001b[0;34m+=\u001b[0m\u001b[0mos\u001b[0m\u001b[0;34m.\u001b[0m\u001b[0mpath\u001b[0m\u001b[0;34m.\u001b[0m\u001b[0mgetsize\u001b[0m\u001b[0;34m(\u001b[0m\u001b[0;34m\"/content/gdrive/My Drive/vqvae/latent_data/\"\u001b[0m\u001b[0;34m+\u001b[0m\u001b[0mid_file_name\u001b[0m\u001b[0;34m+\u001b[0m\u001b[0;34m\".npy\"\u001b[0m\u001b[0;34m)\u001b[0m\u001b[0;34m\u001b[0m\u001b[0;34m\u001b[0m\u001b[0m\n\u001b[0;32m---> 14\u001b[0;31m \u001b[0mprint\u001b[0m\u001b[0;34m(\u001b[0m\u001b[0;34m\"size of original dataset : {}\"\u001b[0m\u001b[0;34m.\u001b[0m \u001b[0mrmat\u001b[0m\u001b[0;34m(\u001b[0m\u001b[0mimgs_size_in_bytes\u001b[0m\u001b[0;34m)\u001b[0m\u001b[0;34m)\u001b[0m\u001b[0;34m\u001b[0m\u001b[0;34m\u001b[0m\u001b[0m\n\u001b[0m\u001b[1;32m     15\u001b[0m \u001b[0mprint\u001b[0m\u001b[0;34m(\u001b[0m\u001b[0;34m\"size of compressed dataset : {}\"\u001b[0m\u001b[0;34m.\u001b[0m\u001b[0mformat\u001b[0m\u001b[0;34m(\u001b[0m\u001b[0mlatent_size_in_bytes\u001b[0m\u001b[0;34m)\u001b[0m\u001b[0;34m)\u001b[0m\u001b[0;34m\u001b[0m\u001b[0;34m\u001b[0m\u001b[0m\n",
            "\u001b[0;31mAttributeError\u001b[0m: 'str' object has no attribute 'rmat'"
          ]
        }
      ]
    },
    {
      "cell_type": "code",
      "metadata": {
        "id": "5PYy9bpeT6Um",
        "colab": {
          "base_uri": "https://localhost:8080/"
        },
        "outputId": "6209a7fa-c6f0-4c85-d4c7-e905b55cb938"
      },
      "source": [
        "print(\"size of original dataset : {}\". format(imgs_size_in_bytes))\n",
        "print(\"size of compressed dataset : {}\".format(latent_size_in_bytes))"
      ],
      "execution_count": null,
      "outputs": [
        {
          "output_type": "stream",
          "name": "stdout",
          "text": [
            "size of original dataset : 127526920\n",
            "size of compressed dataset : 38400000\n"
          ]
        }
      ]
    },
    {
      "cell_type": "code",
      "metadata": {
        "colab": {
          "base_uri": "https://localhost:8080/"
        },
        "id": "PNI5dxNraKND",
        "outputId": "e6de489e-3738-4b70-df38-bb069a2ca401"
      },
      "source": [
        "compression_ratio = imgs_size_in_bytes/latent_size_in_bytes\n",
        "print(compression_ratio)"
      ],
      "execution_count": null,
      "outputs": [
        {
          "output_type": "stream",
          "name": "stdout",
          "text": [
            "3.321013541666667\n"
          ]
        }
      ]
    },
    {
      "cell_type": "code",
      "metadata": {
        "id": "hp7R6GXlaTL3"
      },
      "source": [
        ""
      ],
      "execution_count": null,
      "outputs": []
    }
  ]
}